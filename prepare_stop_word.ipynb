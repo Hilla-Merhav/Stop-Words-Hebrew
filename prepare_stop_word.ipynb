{
  "cells": [
    {
      "cell_type": "markdown",
      "metadata": {
        "id": "view-in-github",
        "colab_type": "text"
      },
      "source": [
        "<a href=\"https://colab.research.google.com/github/WebiksInc/Stop-Words-Hebrew/blob/main/prepare_stop_word.ipynb\" target=\"_parent\"><img src=\"https://colab.research.google.com/assets/colab-badge.svg\" alt=\"Open In Colab\"/></a>"
      ]
    },
    {
      "cell_type": "markdown",
      "source": [
        "# List Stop Words in Hebrew"
      ],
      "metadata": {
        "id": "6a7bimjCIfRv"
      }
    },
    {
      "cell_type": "code",
      "source": [
        "# Install pyconll to handle UD\n",
        "try:\n",
        "    import pyconll\n",
        "except ImportError as e:\n",
        "    !pip install pyconll"
      ],
      "metadata": {
        "id": "eaWP8QkbwT2V"
      },
      "execution_count": 11,
      "outputs": []
    },
    {
      "cell_type": "code",
      "execution_count": 12,
      "metadata": {
        "id": "jiglBSmwEGHc"
      },
      "outputs": [],
      "source": [
        "# Import package\n",
        "import numpy as np\n",
        "import pandas as pd\n",
        "import requests as req\n",
        "import pyconll"
      ]
    },
    {
      "cell_type": "code",
      "source": [
        "# URL data train/test/dev\n",
        "ud_dev = \"https://raw.githubusercontent.com/UniversalDependencies/UD_Hebrew-IAHLTwiki/master/he_iahltwiki-ud-dev.conllu\"\n",
        "ud_test = \"https://github.com/UniversalDependencies/UD_Hebrew-IAHLTwiki/raw/master/he_iahltwiki-ud-test.conllu\"\n",
        "ud_train = \"https://github.com/UniversalDependencies/UD_Hebrew-IAHLTwiki/blob/master/he_iahltwiki-ud-train.conllu?raw=true\"\n",
        "top_freq_word_wiki = \"https://raw.githubusercontent.com/NNLP-IL/Stop-Words-Hebrew/main/top_3000_most_freq_wiki.csv\""
      ],
      "metadata": {
        "id": "B7_EGFbjw73Q"
      },
      "execution_count": 13,
      "outputs": []
    },
    {
      "cell_type": "code",
      "execution_count": 14,
      "metadata": {
        "id": "67BC6mwMOHQP"
      },
      "outputs": [],
      "source": [
        "# download data\n",
        "def get_data(url: str, name: str):\n",
        "    res = req.get(url)\n",
        "    file = open(name + \".txt\", \"w\")\n",
        "    file.write(res.text)\n",
        "    file.close()\n",
        "\n",
        "\n",
        "get_data(ud_dev, \"ud_dev\")\n",
        "get_data(ud_test, \"ud_test\")\n",
        "get_data(ud_train, \"ud_train\")"
      ]
    },
    {
      "cell_type": "code",
      "execution_count": 15,
      "metadata": {
        "id": "d4agOw8EImx8"
      },
      "outputs": [],
      "source": [
        "# load the UD data\n",
        "dev = pyconll.load_from_file(\"/content/ud_dev.txt\")\n",
        "train = pyconll.load_from_file(\"/content/ud_test.txt\")\n",
        "test = pyconll.load_from_file(\"/content/ud_train.txt\")"
      ]
    },
    {
      "cell_type": "code",
      "execution_count": 16,
      "metadata": {
        "id": "SzX4GxiVQaOt"
      },
      "outputs": [],
      "source": [
        "# Word extraction from the UD. Cleaning and adding words\n",
        "def remove_niqqud_from_string(my_string):\n",
        "    return \"\".join([\"\" if 1456 <= ord(c) <= 1479 else c for c in my_string])\n",
        "\n",
        "\n",
        "def Extracts_stopwords(dat: pyconll):\n",
        "    # Extracts the stopwords form the UD Schema\n",
        "    POS_tag = [\"DET\", \"ADP\", \"PRON\", \"CCONJ\", \"SCONJ\", \"SYM\"]\n",
        "    lst_words = [\n",
        "        token.form for sentence in dat for token in sentence if token.upos in POS_tag\n",
        "    ]\n",
        "    return lst_words\n",
        "\n",
        "\n",
        "words_plus = {\n",
        "    \"אגב\",\n",
        "    \"הואיל\",\n",
        "    \"הלא\",\n",
        "    \"הרי\",\n",
        "    \"כיאלו\",\n",
        "    \"כיון\",\n",
        "    \"יען\",\n",
        "    \"על\" \"מנת\",\n",
        "    \"ודאי\",\n",
        "    \"גם\",\n",
        "    \"אפילו\",\n",
        "    \"יש\",\n",
        "    \"רק\",\n",
        "}\n",
        "words_minus = {\n",
        "    \"%\",\n",
        "    \"&\",\n",
        "    \"(\",\n",
        "    \"+\",\n",
        "    \"-\",\n",
        "    \"/\",\n",
        "    \":\",\n",
        "    \"=\",\n",
        "    \"–\",\n",
        "    \"°\",\n",
        "    \"בינ\",\n",
        "    \"שורת\",\n",
        "    \"אודות\",\n",
        "    'אודותי',\n",
        "    'דם',\n",
        "    \"לאזור\",\n",
        "    \"במקביל\",\n",
        "    \"כשב-1948\",\n",
        "    \"ד\",\n",
        "    \"בתוכ\",\n",
        "    \"הו\",\n",
        "    \"י\",\n",
        "    \"ך\",\n",
        "    \"ם\",\n",
        "    \"ן\",\n",
        "    \"נ'\",\n",
        "    \"נאומ\",\n",
        "    'למחרת',\n",
        "    'אות',\n",
        "    'אית',\n",
        "    'ספר',\n",
        "    'ערב'\n",
        "}\n",
        "\n",
        "# Extracts the stopwords form the UD Schema\n",
        "stopwords_raw = set(\n",
        "    Extracts_stopwords(dev) + Extracts_stopwords(train) + Extracts_stopwords(test)\n",
        ")\n",
        "# Optionally, delete the words with the niqqud\n",
        "stopwords_raw = set(map(remove_niqqud_from_string,stopwords_raw))\n",
        "# Delete incorrect words\n",
        "stopwords_base = stopwords_raw - words_minus\n",
        "# Add missing words that we identified . Note that there is another addition of words below\n",
        "stopwords_base = stopwords_base | words_plus\n",
        "\n",
        "# Note: The list includes English words that happened to be in the database. For a complete list in English we recommend nltk package."
      ]
    },
    {
      "cell_type": "code",
      "source": [
        "# most freq words form the hebrew wikipedia\n",
        "wiki_freq = pd.read_csv(top_freq_word_wiki)\n",
        "wiki_top_50 = wiki_freq.head(50)['word'].to_list()\n",
        "wiki_remove = {'בית','במהלך','בשנת','הברית','העולם','הראשון','ישראל','מספר'}\n",
        "wiki_top_50 = set(wiki_top_50) - wiki_remove\n",
        "stopwords_extend = stopwords_base # | wiki_top_50"
      ],
      "metadata": {
        "id": "cHjXOKbCGqeU"
      },
      "execution_count": 17,
      "outputs": []
    },
    {
      "cell_type": "code",
      "execution_count": 18,
      "metadata": {
        "id": "S4bfUEHxsUDu",
        "colab": {
          "base_uri": "https://localhost:8080/"
        },
        "outputId": "7154b06f-0fc8-4d7b-bc36-c16aab0b17ee"
      },
      "outputs": [
        {
          "output_type": "stream",
          "name": "stdout",
          "text": [
            "Long list:\n",
            "\n",
            ",זולת, מש, למרות, עמנו, אליכם, עקב, בשבילנו, עליה, לקראתה, כדי, כי, לנוכח, רוב, תחתי, בהתחשב, \n",
            ",עמהם, גבי, לפיהם, עליכם, בטרם, עצמה, בינינו, עמו, בשבילכן, מה, בינם, לפיכם, כלל, מהן, רק, \n",
            ",אתכן, כמו, כאילו, to, שלכם, לפניכן, פחות, זו, אולם, מפני, and, על-פי, לכבוד, בגדר, בלעדי, \n",
            ",שלך, ידי, עימ, כול, בינן, מפאת, לכדי, עמ, עליכן, מספיק, משום, מתוכ, אשר, כמה, ביניכם, \n",
            ",דנן, ש, עמה, לא, נו, את, כמות, כש, ל, למן, מאחורי, רובן, באשר, סביב, אלו, \n",
            ",בקרבת, בשבילן, עצמם, כמוה, לרבות, מתוך, מאשר, בעבור, כיון, בזכות, מחמת, דוגמת, הוא, שלו, בפני, \n",
            ",עד, כך, אלמלא, אני, ממנה, מ, לפניו, כלשהי, בגין, יתר, לגבי, לידי, The, שלה, לפניהם, \n",
            ",בה, נכון, עמהן, לפני, Your, כיאלו, לבין, לפיה, לרגל, מתחת, למען, עובר, אצלן, מול, ב, \n",
            ",כמוהו, ללא, ברם, כל, כלשהו, כמוהם, עבר, אצל, בשבילך, האם, ביניהן, זהו, כמוהן, אותם, מידי, \n",
            ",לקראתכן, שאר, יחד, ביניהם, במו, of, בינך, אבל, החל, מאחר, מכן, אותי, באם, יש, עלמנת, \n",
            ",הללו, עמכם, לעניין, מי, מאת, מהו, יו, אי, פי, מעלי, לקראתכם, מבלי, מלבד, אליך, שלהם, \n",
            ",לפניכם, ה, בשל, לפיך, לקראתן, כגון, באמצעות, של, מאז, בגלל, טרום, לצד, דרכ, לפיהן, משל, \n",
            ",יותר, לקראתם, כ, תוך, בידי, ליד, עליו, אצלי, היות, מספר, הלה, מתחילת, שום, שלהן, עם, \n",
            ",a, בלא, לפיכן, כמוכן, מטעם, או, חרף, אותן, אצלנו, בשבילכם, אצלם, לפניך, ממך, לעבר, אפילו, \n",
            ",אחרי, אחר, כולן, בשבילה, למעט, כם, לקראת, אל, אצלכם, אצלו, על, אם, לפנות, לאור, אנחנו, \n",
            ",עת, בעד, אגב, בתוך, זה, תחת, ממנ, במקום, ממני, כמוני, אותו, ני, אליכן, עמי, מבחינת, \n",
            ",כאשר, מציד, עמן, אלה, שלנו, בשביל, ככל, לפי, ערכ, אתה, גם, עצמן, משהו, מרבית, שלי, \n",
            ",כנגד, בתור, מנת, the, בינו, כולה, תמורת, מבין, למשל, לאורך, אצלכן, ע\"פ, היא, עוד, עצמו, \n",
            ",מתוכן, כן, הם, בשבילם, מן, אליה, אנוכי, לעומת, דרך, מישהו, מעט, קרוב, לו, לאחר, מכם, \n",
            ",אנו, שלכן, מסביב, לקראתו, מתחתי, ביניכן, אלינו, אצלך, לולא, לבד, בינה, כמוכם, בלי, לפניה, שמא, \n",
            ",כמוך, הלא, אילו, בניגוד, כפי, הרבה, בשבילו, א, ביני, במשך, בעקבות, מיטב, עליהם, זאת, עליהן, \n",
            ",טרם, פרט, עליך, אלא, לקראתך, מהם, איזה, בהתבסס, מחצית, מעבר, כעבור, מעין, אליו, אצלה, עמך, \n",
            ",אף, קודם, עצמי, כלשהן, מקרב, לבל, הודות, הן, בעקבותי, אליבא, עבור, ממנו, אליהן, אותנו, מביני, \n",
            ",ודאי, לפיו, הואיל, מכיוון, ביד, עצמך, אותך, עלינו, עלי, You, ע\"ש, עמם, אלי, מצד, לשם, \n",
            ",נוכח, בנוגע, עמכן, לקראתי, כלומר, בשבילי, כולו, לפניהן, בין, אליהם, לה, בקרב, לאחרי, יען, לתוך, \n",
            ",לציד, עצמנו, כמונו, זוהי, שכן, נגד, אך, אתכם, לקראתנו, כיוון, כולם, קרי, מירב, ו, אותה, \n",
            ",הרי, מעל, במקומ, הגם, מדי, פר, בעוד, כלשהם, כלפי, לפינו, לפנינו\n"
          ]
        }
      ],
      "source": [
        "# Add prepositions. A detailed explanation of the need appears in README\n",
        "\n",
        "al = [\n",
        "    \"אלי\",\n",
        "    \"אליך\",\n",
        "    \"אליך\",\n",
        "    \"אליו\",\n",
        "    \"אליה\",\n",
        "    \"אלינו\",\n",
        "    \"אליכם\",\n",
        "    \"אליכן\",\n",
        "    \"אליהם\",\n",
        "    \"אליהן\",\n",
        "]\n",
        "hal = [\n",
        "    \"עלי\",\n",
        "    \"עליך\",\n",
        "    \"עליך\",\n",
        "    \"עליו\",\n",
        "    \"עליה\",\n",
        "    \"עלינו\",\n",
        "    \"עליכם\",\n",
        "    \"עליכן\",\n",
        "    \"עליהם\",\n",
        "    \"עליהן\",\n",
        "]\n",
        "him = [\n",
        "    \"עמי\",\n",
        "    \"עמך\",\n",
        "    \"עמו\",\n",
        "    \"עמה\",\n",
        "    \"עמנו\",\n",
        "    \"עמכם\",\n",
        "    \"עמכן\",\n",
        "    \"עמם\",\n",
        "    \"עמן\",\n",
        "    \"עמהם\",\n",
        "    \"עמהן\"\n",
        "]\n",
        "ath_with = [\n",
        "    \"אתן\",\n",
        "    \"אתם\",\n",
        "    \"אתכן\",\n",
        "    \"אתכם\",\n",
        "    \"אתנו\",\n",
        "    \"אתה\",\n",
        "    \"אתו\",\n",
        "    \"אתך\",\n",
        "    \"אתי\"\n",
        "]\n",
        "ath = [\n",
        "    \"אותי\",\n",
        "    \"אותך\",\n",
        "    \"אותו\",\n",
        "    \"אותה\",\n",
        "    \"אותנו\",\n",
        "    \"אתכם\",\n",
        "    \"אתכן\",\n",
        "    \"אותם\",\n",
        "    \"אותן\"\n",
        "]\n",
        "shel = [\n",
        "    \"שלי\",\n",
        "    \"שלך\",\n",
        "    \"שלו\",\n",
        "    \"שלה\",\n",
        "    \"שלנו\",\n",
        "    \"שלכם\",\n",
        "    \"שלכן\",\n",
        "    \"שלהם\",\n",
        "    \"שלהן\",\n",
        "]\n",
        "men = [\n",
        "    \"ממני\",\n",
        "    \"ממך\",\n",
        "    \"ממנו\",\n",
        "    \"ממנה\",\n",
        "    \"מכם\",\n",
        "    \"מכן\",\n",
        "    \"מהם\",\n",
        "    \"מהן\"\n",
        "]\n",
        "azhel = [\n",
        "    \"אצלי\",\n",
        "    \"אצלך\",\n",
        "    \"אצלו\",\n",
        "    \"אצלה\",\n",
        "    \"אצלנו\",\n",
        "    \"אצלכם\",\n",
        "    \"אצלכן\",\n",
        "    \"אצלם\", \n",
        "    \"אצלן\"\n",
        "]\n",
        "bshvil = [\n",
        "    \"בשבילי\",\n",
        "    \"בשבילך\",\n",
        "    \"בשבילו\",\n",
        "    \"בשבילה\",\n",
        "    \"בשבילנו\",\n",
        "    \"בשבילכם\",\n",
        "    \"בשבילכן\",\n",
        "    \"בשבילם\",\n",
        "    \"בשבילן\",\n",
        "]\n",
        "bin = [\n",
        "    \"ביני\",\n",
        "    \"בינך\",\n",
        "    \"בינו\",\n",
        "    \"בינה\",\n",
        "    \"בינינו\",\n",
        "    \"ביניכם\",\n",
        "    \"ביניכן\",\n",
        "    \"ביניהם\",\n",
        "    \"ביניהן\",\n",
        "    \"בינם\",\n",
        "    \"בינן\",\n",
        "]\n",
        "lafi = [\n",
        "    \"לפי\",\n",
        "    \"לפיך\",\n",
        "    \"לפיו\",\n",
        "    \"לפיה\",\n",
        "    \"לפינו\",\n",
        "    \"לפיכם\",\n",
        "    \"לפיכן\",\n",
        "    \"לפיהם\",\n",
        "    \"לפיהן\"\n",
        "]\n",
        "lafni = [\n",
        "    \"לפני\",\n",
        "    \"לפניך\",\n",
        "    \"לפניו\",\n",
        "    \"לפניה\",\n",
        "    \"לפנינו\",\n",
        "    \"לפניכם\",\n",
        "    \"לפניכן\",\n",
        "    \"לפניהם\",\n",
        "    \"לפניהן\",\n",
        "]\n",
        "chmo = [\n",
        "    \"כמוני\",\n",
        "    \"כמוך\",\n",
        "    \"כמוהו\",\n",
        "    \"כמוה\",\n",
        "    \"כמונו\",\n",
        "    \"כמוכם\",\n",
        "    \"כמוכן\",\n",
        "    \"כמוהם\",\n",
        "    \"כמוהן\"\n",
        "]\n",
        "lakrt = [\n",
        "    \"לקראתי\",\n",
        "    \"לקראתך\",\n",
        "    \"לקראתו\",\n",
        "    \"לקראתה\",\n",
        "    \"לקראתנו\",\n",
        "    \"לקראתכם\",\n",
        "    \"לקראתכן\",\n",
        "    \"לקראתם\",\n",
        "    \"לקראתן\",\n",
        "]\n",
        "pepositions = {\n",
        "    \"אל\": al,\n",
        "    \"על\": hal,\n",
        "    \"עם\": him,\n",
        "    \"(=עם) את\": him,\n",
        "    \"את (תוויות מושא ישיר\": ath,\n",
        "    \"של\": shel,\n",
        "    \"מן\": men,\n",
        "    \"אצל\": azhel,\n",
        "    \"בשביל\": bshvil,\n",
        "    \"בין\": bin,\n",
        "    \"לפי\": lafi,\n",
        "    \"לפני\": lafni,\n",
        "    \"כמו\": chmo,\n",
        "    \"לקראת\": lakrt,\n",
        "}\n",
        "pepositions_lst = [item for sublist in list(pepositions.values()) for item in sublist]\n",
        "\n",
        "stopwords_extend = stopwords_extend | set(pepositions_lst)\n",
        "print('Long list:')\n",
        "print(\n",
        "    \", \".join(\n",
        "        [\n",
        "            word if index % 15 != 0 else \"\\n,\" + word\n",
        "            for index, word in enumerate(stopwords_extend)\n",
        "        ]\n",
        "    )\n",
        ")"
      ]
    },
    {
      "cell_type": "code",
      "source": [
        "# short stop words list. Intersection UD and 1000 most freq words\n",
        "\n",
        "wiki_top_1000 = wiki_freq.head(1000)['word'].to_list()\n",
        "stopwords_short = stopwords_base.intersection(set(wiki_top_1000))\n",
        "stopwords_short_minus = {''}\n",
        "stopwords_short = stopwords_short - stopwords_short_minus\n",
        "print('Short list:')\n",
        "print(\n",
        "    \", \".join(\n",
        "        [\n",
        "            word if index % 15 != 0 else \"\\n,\" + word\n",
        "            for index, word in enumerate(stopwords_short)\n",
        "        ]\n",
        "    )\n",
        ")"
      ],
      "metadata": {
        "colab": {
          "base_uri": "https://localhost:8080/"
        },
        "id": "i_OpU2tPielO",
        "outputId": "f151508f-4821-4324-9ca5-0e11985f7981"
      },
      "execution_count": 19,
      "outputs": [
        {
          "output_type": "stream",
          "name": "stdout",
          "text": [
            "Short list:\n",
            "\n",
            ",אחרי, למרות, עקב, אחר, כי, כדי, רוב, לקראת, אל, על, אם, לאור, עת, עצמה, בתוך, \n",
            ",זה, מה, תחת, כלל, במקום, רק, אותו, כמו, זו, פחות, אולם, מפני, כאשר, אלה, ככל, \n",
            ",לפי, גם, ידי, מרבית, כנגד, בתור, מנת, משום, the, אשר, כמה, מבין, למשל, לאורך, היא, \n",
            ",עוד, עצמו, כן, לא, הם, מן, את, ל, לעומת, דרך, מעט, קרוב, לו, לאחר, סביב, \n",
            ",אלו, עצמם, מתוך, מאשר, בזכות, הוא, בניגוד, בפני, עד, כך, אני, כפי, הרבה, מ, א, \n",
            ",במשך, לגבי, בעקבות, לידי, The, בה, נכון, זאת, אלא, מהם, לפני, לבין, מתחת, למען, מעבר, \n",
            ",מול, ב, ללא, כל, אף, עבר, אצל, קודם, האם, זהו, אותם, שאר, הן, עבור, יחד, \n",
            ",of, אבל, החל, מאחר, מכיוון, יש, הללו, מי, מאת, אי, פי, מצד, לשם, ה, בשל, \n",
            ",כגון, כלומר, באמצעות, של, מאז, בגלל, בין, לצד, לה, בקרב, יותר, כ, תוך, בידי, ליד, \n",
            ",שכן, נגד, מספר, אך, עם, כיוון, ו, אותה, הרי, מטעם, מעל, או, מדי, בעוד, כלפי\n"
          ]
        }
      ]
    },
    {
      "cell_type": "code",
      "source": [
        "# Download the list\n",
        "from google.colab import files\n",
        "\n",
        "pd.DataFrame({\"stopswords\": list(stopwords_extend)}).to_csv(\n",
        "    \"stopswords_list_extend.txt\", index=False, sep=\"\\t\"\n",
        ")\n",
        "\n",
        "pd.DataFrame({\"stopswords\": list(stopwords_short)}).to_csv(\n",
        "    \"stopswords_list_short.txt\", index=False, sep=\"\\t\"\n",
        ")\n",
        "\n",
        "files.download(\"stopswords_list_extend.txt\")\n",
        "files.download(\"stopswords_list_short.txt\")"
      ],
      "metadata": {
        "id": "_cPrv7YVx-qp",
        "colab": {
          "base_uri": "https://localhost:8080/",
          "height": 17
        },
        "outputId": "d24ccaf8-010d-43a1-855b-0018ba42bf5f"
      },
      "execution_count": 20,
      "outputs": [
        {
          "output_type": "display_data",
          "data": {
            "text/plain": [
              "<IPython.core.display.Javascript object>"
            ],
            "application/javascript": [
              "\n",
              "    async function download(id, filename, size) {\n",
              "      if (!google.colab.kernel.accessAllowed) {\n",
              "        return;\n",
              "      }\n",
              "      const div = document.createElement('div');\n",
              "      const label = document.createElement('label');\n",
              "      label.textContent = `Downloading \"${filename}\": `;\n",
              "      div.appendChild(label);\n",
              "      const progress = document.createElement('progress');\n",
              "      progress.max = size;\n",
              "      div.appendChild(progress);\n",
              "      document.body.appendChild(div);\n",
              "\n",
              "      const buffers = [];\n",
              "      let downloaded = 0;\n",
              "\n",
              "      const channel = await google.colab.kernel.comms.open(id);\n",
              "      // Send a message to notify the kernel that we're ready.\n",
              "      channel.send({})\n",
              "\n",
              "      for await (const message of channel.messages) {\n",
              "        // Send a message to notify the kernel that we're ready.\n",
              "        channel.send({})\n",
              "        if (message.buffers) {\n",
              "          for (const buffer of message.buffers) {\n",
              "            buffers.push(buffer);\n",
              "            downloaded += buffer.byteLength;\n",
              "            progress.value = downloaded;\n",
              "          }\n",
              "        }\n",
              "      }\n",
              "      const blob = new Blob(buffers, {type: 'application/binary'});\n",
              "      const a = document.createElement('a');\n",
              "      a.href = window.URL.createObjectURL(blob);\n",
              "      a.download = filename;\n",
              "      div.appendChild(a);\n",
              "      a.click();\n",
              "      div.remove();\n",
              "    }\n",
              "  "
            ]
          },
          "metadata": {}
        },
        {
          "output_type": "display_data",
          "data": {
            "text/plain": [
              "<IPython.core.display.Javascript object>"
            ],
            "application/javascript": [
              "download(\"download_fe0b1a94-d20d-48ee-8c28-4c61afa5af15\", \"stopswords_list_extend.txt\", 3498)"
            ]
          },
          "metadata": {}
        },
        {
          "output_type": "display_data",
          "data": {
            "text/plain": [
              "<IPython.core.display.Javascript object>"
            ],
            "application/javascript": [
              "\n",
              "    async function download(id, filename, size) {\n",
              "      if (!google.colab.kernel.accessAllowed) {\n",
              "        return;\n",
              "      }\n",
              "      const div = document.createElement('div');\n",
              "      const label = document.createElement('label');\n",
              "      label.textContent = `Downloading \"${filename}\": `;\n",
              "      div.appendChild(label);\n",
              "      const progress = document.createElement('progress');\n",
              "      progress.max = size;\n",
              "      div.appendChild(progress);\n",
              "      document.body.appendChild(div);\n",
              "\n",
              "      const buffers = [];\n",
              "      let downloaded = 0;\n",
              "\n",
              "      const channel = await google.colab.kernel.comms.open(id);\n",
              "      // Send a message to notify the kernel that we're ready.\n",
              "      channel.send({})\n",
              "\n",
              "      for await (const message of channel.messages) {\n",
              "        // Send a message to notify the kernel that we're ready.\n",
              "        channel.send({})\n",
              "        if (message.buffers) {\n",
              "          for (const buffer of message.buffers) {\n",
              "            buffers.push(buffer);\n",
              "            downloaded += buffer.byteLength;\n",
              "            progress.value = downloaded;\n",
              "          }\n",
              "        }\n",
              "      }\n",
              "      const blob = new Blob(buffers, {type: 'application/binary'});\n",
              "      const a = document.createElement('a');\n",
              "      a.href = window.URL.createObjectURL(blob);\n",
              "      a.download = filename;\n",
              "      div.appendChild(a);\n",
              "      a.click();\n",
              "      div.remove();\n",
              "    }\n",
              "  "
            ]
          },
          "metadata": {}
        },
        {
          "output_type": "display_data",
          "data": {
            "text/plain": [
              "<IPython.core.display.Javascript object>"
            ],
            "application/javascript": [
              "download(\"download_3078c1a6-f6e4-4fde-86e0-791e09109a0f\", \"stopswords_list_short.txt\", 1117)"
            ]
          },
          "metadata": {}
        }
      ]
    }
  ],
  "metadata": {
    "colab": {
      "collapsed_sections": [],
      "name": "prepare_stop_word.ipynb",
      "provenance": [],
      "include_colab_link": true
    },
    "kernelspec": {
      "display_name": "Python 3 (ipykernel)",
      "language": "python",
      "name": "python3"
    },
    "language_info": {
      "codemirror_mode": {
        "name": "ipython",
        "version": 3
      },
      "file_extension": ".py",
      "mimetype": "text/x-python",
      "name": "python",
      "nbconvert_exporter": "python",
      "pygments_lexer": "ipython3",
      "version": "3.9.7"
    }
  },
  "nbformat": 4,
  "nbformat_minor": 0
}
