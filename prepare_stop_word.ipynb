{
  "cells": [
    {
      "cell_type": "markdown",
      "metadata": {
        "id": "view-in-github",
        "colab_type": "text"
      },
      "source": [
        "<a href=\"https://colab.research.google.com/github/WebiksInc/Stop-Words-Hebrew/blob/main/prepare_stop_word.ipynb\" target=\"_parent\"><img src=\"https://colab.research.google.com/assets/colab-badge.svg\" alt=\"Open In Colab\"/></a>"
      ]
    },
    {
      "cell_type": "markdown",
      "source": [
        "# List Stop Words in Hebrew"
      ],
      "metadata": {
        "id": "6a7bimjCIfRv"
      }
    },
    {
      "cell_type": "code",
      "source": [
        "# Install pyconll to handle UD\n",
        "try:\n",
        "    import pyconll\n",
        "except ImportError as e:\n",
        "    !pip install pyconll"
      ],
      "metadata": {
        "id": "eaWP8QkbwT2V"
      },
      "execution_count": 1,
      "outputs": []
    },
    {
      "cell_type": "code",
      "execution_count": 2,
      "metadata": {
        "id": "jiglBSmwEGHc"
      },
      "outputs": [],
      "source": [
        "# Import package\n",
        "import numpy as np\n",
        "import pandas as pd\n",
        "import requests as req\n",
        "import pyconll"
      ]
    },
    {
      "cell_type": "code",
      "source": [
        "# URL data train/test/dev\n",
        "ud_dev = \"https://raw.githubusercontent.com/UniversalDependencies/UD_Hebrew-IAHLTwiki/master/he_iahltwiki-ud-dev.conllu\"\n",
        "ud_test = \"https://github.com/UniversalDependencies/UD_Hebrew-IAHLTwiki/raw/master/he_iahltwiki-ud-test.conllu\"\n",
        "ud_train = \"https://github.com/UniversalDependencies/UD_Hebrew-IAHLTwiki/blob/master/he_iahltwiki-ud-train.conllu?raw=true\"\n",
        "top_freq_word_wiki = \"https://raw.githubusercontent.com/WebiksInc/Stop-Words-Hebrew/main/top_3000_most_freq_wiki.csv?token=GHSAT0AAAAAABSYLCEQWYII4PN252IOWFU6YWC6XDA\""
      ],
      "metadata": {
        "id": "B7_EGFbjw73Q"
      },
      "execution_count": 3,
      "outputs": []
    },
    {
      "cell_type": "code",
      "execution_count": 4,
      "metadata": {
        "id": "67BC6mwMOHQP"
      },
      "outputs": [],
      "source": [
        "# download data\n",
        "def get_data(url: str, name: str):\n",
        "    res = req.get(url)\n",
        "    file = open(name + \".txt\", \"w\")\n",
        "    file.write(res.text)\n",
        "    file.close()\n",
        "\n",
        "\n",
        "get_data(ud_dev, \"ud_dev\")\n",
        "get_data(ud_test, \"ud_test\")\n",
        "get_data(ud_train, \"ud_train\")"
      ]
    },
    {
      "cell_type": "code",
      "execution_count": 5,
      "metadata": {
        "id": "d4agOw8EImx8"
      },
      "outputs": [],
      "source": [
        "# load the UD data\n",
        "dev = pyconll.load_from_file(\"/content/ud_dev.txt\")\n",
        "train = pyconll.load_from_file(\"/content/ud_test.txt\")\n",
        "test = pyconll.load_from_file(\"/content/ud_train.txt\")"
      ]
    },
    {
      "cell_type": "code",
      "execution_count": 6,
      "metadata": {
        "id": "SzX4GxiVQaOt"
      },
      "outputs": [],
      "source": [
        "# Word extraction from the UD. Cleaning and adding words\n",
        "def remove_niqqud_from_string(my_string):\n",
        "    return \"\".join([\"\" if 1456 <= ord(c) <= 1479 else c for c in my_string])\n",
        "\n",
        "\n",
        "def Extracts_stopwords(dat: pyconll):\n",
        "    # Extracts the stopwords form the UD Schema\n",
        "    POS_tag = [\"DET\", \"ADP\", \"PRON\", \"CCONJ\", \"SCONJ\", \"SYM\"]\n",
        "    lst_words = [\n",
        "        token.form for sentence in dat for token in sentence if token.upos in POS_tag\n",
        "    ]\n",
        "    return lst_words\n",
        "\n",
        "\n",
        "words_plus = {\n",
        "    \"אגב\",\n",
        "    \"הואיל\",\n",
        "    \"הלא\",\n",
        "    \"הרי\",\n",
        "    \"כיאלו\",\n",
        "    \"כיון\",\n",
        "    \"יען\",\n",
        "    \"על\" \"מנת\",\n",
        "    \"ודאי\",\n",
        "    \"גם\",\n",
        "    \"אפילו\",\n",
        "    \"יש\",\n",
        "    \"רק\",\n",
        "}\n",
        "words_minus = {\n",
        "    \"%\",\n",
        "    \"&\",\n",
        "    \"(\",\n",
        "    \"+\",\n",
        "    \"-\",\n",
        "    \"/\",\n",
        "    \":\",\n",
        "    \"=\",\n",
        "    \"–\",\n",
        "    \"°\",\n",
        "    \"בינ\",\n",
        "    \"שורת\",\n",
        "    \"אודות\",\n",
        "    'אודותי',\n",
        "    'דם',\n",
        "    \"לאזור\",\n",
        "    \"במקביל\",\n",
        "    \"כשב-1948\",\n",
        "    \"ד\",\n",
        "    \"בתוכ\",\n",
        "    \"הו\",\n",
        "    \"י\",\n",
        "    \"ך\",\n",
        "    \"ם\",\n",
        "    \"ן\",\n",
        "    \"נ'\",\n",
        "    \"נאומ\",\n",
        "    'למחרת',\n",
        "    'אות',\n",
        "    'אית',\n",
        "    'ספר',\n",
        "    'ערב'\n",
        "}\n",
        "\n",
        "# Extracts the stopwords form the UD Schema\n",
        "stopwords_raw = set(\n",
        "    Extracts_stopwords(dev) + Extracts_stopwords(train) + Extracts_stopwords(test)\n",
        ")\n",
        "# Optionally, delete the words with the niqqud\n",
        "# stopwords_raw = set(map(remove_niqqud_from_string,stopwords_raw))\n",
        "# Delete incorrect words\n",
        "stopwords_base = stopwords_raw - words_minus\n",
        "# Add missing words that we identified . Note that there is another addition of words below\n",
        "stopwords_base = stopwords_base | words_plus\n",
        "\n",
        "# Note: The list includes English words that happened to be in the database. For a complete list in English we recommend nltk package."
      ]
    },
    {
      "cell_type": "code",
      "source": [
        "# most freq words form the hebrew wikipedia\n",
        "wiki_freq = pd.read_csv(top_freq_word_wiki)\n",
        "wiki_top_50 = wiki_freq.head(50)['word'].to_list()\n",
        "wiki_remove = {'בית','במהלך','בשנת','הברית','העולם','הראשון','ישראל','מספר'}\n",
        "wiki_top_50 = set(wiki_top_50) - wiki_remove\n",
        "stopwords_extend = stopwords_base | wiki_top_50"
      ],
      "metadata": {
        "id": "cHjXOKbCGqeU"
      },
      "execution_count": 7,
      "outputs": []
    },
    {
      "cell_type": "code",
      "execution_count": 8,
      "metadata": {
        "id": "S4bfUEHxsUDu",
        "colab": {
          "base_uri": "https://localhost:8080/"
        },
        "outputId": "499ec560-1e32-4e2c-e7a7-11cd65b3ad15"
      },
      "outputs": [
        {
          "output_type": "stream",
          "name": "stdout",
          "text": [
            "Long list:\n",
            "\n",
            ",אלו, אצל, פחות, אחרי, מתחתי, עת, החל, על-פי, ש, רק, לפניכם, ע\"ש, לו, עלינו, מהם, \n",
            ",כולה, בלעדי, אותה, לעבר, אשר, דוגמת, איזה, מאחורי, לפניך, מעבר, הואיל, הרי, זו, בקרבת, כלפי, \n",
            ",בשל, אתכם, ביד, מביני, עמו, מיטב, כם, תחת, קרי, כן, הודות, עמכם, אצלה, משהו, מבלי, \n",
            ",a, ללא, ככל, כִּי, אליהם, לשם, מספיק, ה, ביניהן, זוהי, לא, בעוד, בשביל, מירב, לאחר, \n",
            ",כמוך, כיאלו, כול, בגלל, ביני, אנוכי, כנגד, בעד, במשך, ממנו, גם, הוא, אנו, אחר, אצלי, \n",
            ",אֶל, טרום, לפיך, דרך, פר, לפי, לפינו, לפניהם, בלי, עוד, גבי, מפאת, שלכם, בִ, בתוך, \n",
            ",הרבה, מסביב, אותנו, לפניהן, יו, היה, מתחת, משום, אותי, למרות, קודם, מתוך, עצמו, מאחר, כעבור, \n",
            ",כמוכן, במקום, בטרם, לקראתנו, מישהו, עם, לבד, מתחילת, הַ, Your, בשבילך, בשבילנו, אלא, לפיה, כולן, \n",
            ",מדי, עלי, בשבילו, ךָ, ְהַ, אתה, עליה, מפני, אותן, האם, לקראתה, באשר, כמות, תמורת, בשבילי, \n",
            ",לידי, לקראתו, בעקבותי, כמוה, אצלן, אותו, נו, עליהם, מחצית, שם, לרגל, לצד, מכיוון, לולא, לגבי, \n",
            ",מנת, אצלו, אליה, אותם, אצלנו, לפיהן, עליהן, בה, לקראתכם, של, אך, עמי, מחמת, אלי, דנן, \n",
            ",You, וְ, עמהן, בינם, בינו, לקראתי, במו, אליך, היות, אנחנו, כש, אבל, א, אליהן, בינן, \n",
            ",טרם, ממנ, מ, עמם, עלמנת, בינך, ערכ, למען, נוכח, עליו, לעומת, וֹ, ל, כמוהן, עצמך, \n",
            ",אליבא, מה, לה, כפי, כולו, עצמם, לרבות, ליד, כמוכם, לנוכח, בנוגע, כ, משל, שני, לאור, \n",
            ",ביותר, באמצעות, עמ, מול, לפנות, כדי, אליכם, הן, אצלכן, בשבילה, עמכן, מן, אצלם, שלך, מעין, \n",
            ",שלה, לקראת, of, ביניכן, בו, the, כלשהן, שלכן, כלומר, אי, מקרב, שכן, שלי, על, and, \n",
            ",זהו, עצמנו, מצד, למשל, בשבילן, כולם, שאר, יחד, הם, שום, אִם, כגון, דרכ, עליכן, עבור, \n",
            ",בשבילכם, בתור, אלמלא, כמוהו, בפני, ודאי, to, יען, לכבוד, אל, שמא, אליכן, יש, מאשר, עליכם, \n",
            ",עצמן, אלינו, רוב, עימ, בעבור, זה, לפניה, לפיכן, כלשהו, הָ, עמה, מי, בין, אם, מבין, \n",
            ",כי, פי, עצמה, ידי, בעקבות, אגב, הּ, סביב, אולם, פרט, אפילו, אתכן, אילו, כמוני, עצמי, \n",
            ",הלא, לקראתכן, זאת, ב, כלשהי, נגד, לקראתך, מתוכן, מתוכ, עמן, מידי, ממך, לפיהם, לכדי, מכן, \n",
            ",עַד, בקרב, שלהן, בהתבסס, כיוון, לבין, מרבית, אוּלָם, תחתי, מעלי, מלבד, ני, לפיו, מאז, אצלכם, \n",
            ",למעט, עבר, אצלך, את, בינינו, עד, או, מאת, בגין, מציד, מבחינת, לפיכם, מעל, כלשהם, כמונו, \n",
            ",בהתחשב, ביניכם, כלל, באם, הגם, לפניכן, במקומ, כאשר, מהו, חרף, יתר, The, כיון, אף, לקראתן, \n",
            ",לפנינו, כמו, אני, אחד, יותר, עליך, עמך, ו, אֹת, זולת, נכון, קרוב, לאורך, עובר, אלה, \n",
            ",ממנה, מכם, שלהם, היא, ברם, הלה, בגדר, כך, ממני, עמהם, בינה, לבל, לקראתם, לפניו, כל, \n",
            ",הללו, לאחרי, אֶת, לציד, לפני, אותך, בלא, כאילו, מספר, עמנו, ביניהם, מטעם, כַּאֲשֶר, למן, אליו, \n",
            ",בזכות, עקב, מש, ַזֶּה, היו, בניגוד, מעט, וַ, בשבילם, ע\"פ, בשבילכן, שלנו, כמוהם, תוך, שלו, \n",
            ",רובן, מהן, הייתה, לתוך, כמה, לעניין, בידי\n"
          ]
        }
      ],
      "source": [
        "# Add prepositions. A detailed explanation of the need appears in README\n",
        "\n",
        "al = [\n",
        "    \"אלי\",\n",
        "    \"אליך\",\n",
        "    \"אליך\",\n",
        "    \"אליו\",\n",
        "    \"אליה\",\n",
        "    \"אלינו\",\n",
        "    \"אליכם\",\n",
        "    \"אליכן\",\n",
        "    \"אליהם\",\n",
        "    \"אליהן\",\n",
        "]\n",
        "hal = [\n",
        "    \"עלי\",\n",
        "    \"עליך\",\n",
        "    \"עליך\",\n",
        "    \"עליו\",\n",
        "    \"עליה\",\n",
        "    \"עלינו\",\n",
        "    \"עליכם\",\n",
        "    \"עליכן\",\n",
        "    \"עליהם\",\n",
        "    \"עליהן\",\n",
        "]\n",
        "him = [\n",
        "    \"עמי\",\n",
        "    \"עמך\",\n",
        "    \"עמו\",\n",
        "    \"עמה\",\n",
        "    \"עמנו\",\n",
        "    \"עמכם\",\n",
        "    \"עמכן\",\n",
        "    \"עמם\",\n",
        "    \"עמן\",\n",
        "    \"עמהם\",\n",
        "    \"עמהן\"\n",
        "]\n",
        "ath_with = [\n",
        "    \"אתן\",\n",
        "    \"אתם\",\n",
        "    \"אתכן\",\n",
        "    \"אתכם\",\n",
        "    \"אתנו\",\n",
        "    \"אתה\",\n",
        "    \"אתו\",\n",
        "    \"אתך\",\n",
        "    \"אתי\"\n",
        "]\n",
        "ath = [\n",
        "    \"אותי\",\n",
        "    \"אותך\",\n",
        "    \"אותו\",\n",
        "    \"אותה\",\n",
        "    \"אותנו\",\n",
        "    \"אתכם\",\n",
        "    \"אתכן\",\n",
        "    \"אותם\",\n",
        "    \"אותן\"\n",
        "]\n",
        "shel = [\n",
        "    \"שלי\",\n",
        "    \"שלך\",\n",
        "    \"שלו\",\n",
        "    \"שלה\",\n",
        "    \"שלנו\",\n",
        "    \"שלכם\",\n",
        "    \"שלכן\",\n",
        "    \"שלהם\",\n",
        "    \"שלהן\",\n",
        "]\n",
        "men = [\n",
        "    \"ממני\",\n",
        "    \"ממך\",\n",
        "    \"ממנו\",\n",
        "    \"ממנה\",\n",
        "    \"מכם\",\n",
        "    \"מכן\",\n",
        "    \"מהם\",\n",
        "    \"מהן\"\n",
        "]\n",
        "azhel = [\n",
        "    \"אצלי\",\n",
        "    \"אצלך\",\n",
        "    \"אצלו\",\n",
        "    \"אצלה\",\n",
        "    \"אצלנו\",\n",
        "    \"אצלכם\",\n",
        "    \"אצלכן\",\n",
        "    \"אצלם\", \n",
        "    \"אצלן\"\n",
        "]\n",
        "bshvil = [\n",
        "    \"בשבילי\",\n",
        "    \"בשבילך\",\n",
        "    \"בשבילו\",\n",
        "    \"בשבילה\",\n",
        "    \"בשבילנו\",\n",
        "    \"בשבילכם\",\n",
        "    \"בשבילכן\",\n",
        "    \"בשבילם\",\n",
        "    \"בשבילן\",\n",
        "]\n",
        "bin = [\n",
        "    \"ביני\",\n",
        "    \"בינך\",\n",
        "    \"בינו\",\n",
        "    \"בינה\",\n",
        "    \"בינינו\",\n",
        "    \"ביניכם\",\n",
        "    \"ביניכן\",\n",
        "    \"ביניהם\",\n",
        "    \"ביניהן\",\n",
        "    \"בינם\",\n",
        "    \"בינן\",\n",
        "]\n",
        "lafi = [\n",
        "    \"לפי\",\n",
        "    \"לפיך\",\n",
        "    \"לפיו\",\n",
        "    \"לפיה\",\n",
        "    \"לפינו\",\n",
        "    \"לפיכם\",\n",
        "    \"לפיכן\",\n",
        "    \"לפיהם\",\n",
        "    \"לפיהן\"\n",
        "]\n",
        "lafni = [\n",
        "    \"לפני\",\n",
        "    \"לפניך\",\n",
        "    \"לפניו\",\n",
        "    \"לפניה\",\n",
        "    \"לפנינו\",\n",
        "    \"לפניכם\",\n",
        "    \"לפניכן\",\n",
        "    \"לפניהם\",\n",
        "    \"לפניהן\",\n",
        "]\n",
        "chmo = [\n",
        "    \"כמוני\",\n",
        "    \"כמוך\",\n",
        "    \"כמוהו\",\n",
        "    \"כמוה\",\n",
        "    \"כמונו\",\n",
        "    \"כמוכם\",\n",
        "    \"כמוכן\",\n",
        "    \"כמוהם\",\n",
        "    \"כמוהן\"\n",
        "]\n",
        "lakrt = [\n",
        "    \"לקראתי\",\n",
        "    \"לקראתך\",\n",
        "    \"לקראתו\",\n",
        "    \"לקראתה\",\n",
        "    \"לקראתנו\",\n",
        "    \"לקראתכם\",\n",
        "    \"לקראתכן\",\n",
        "    \"לקראתם\",\n",
        "    \"לקראתן\",\n",
        "]\n",
        "pepositions = {\n",
        "    \"אל\": al,\n",
        "    \"על\": hal,\n",
        "    \"עם\": him,\n",
        "    \"(=עם) את\": him,\n",
        "    \"את (תוויות מושא ישיר\": ath,\n",
        "    \"של\": shel,\n",
        "    \"מן\": men,\n",
        "    \"אצל\": azhel,\n",
        "    \"בשביל\": bshvil,\n",
        "    \"בין\": bin,\n",
        "    \"לפי\": lafi,\n",
        "    \"לפני\": lafni,\n",
        "    \"כמו\": chmo,\n",
        "    \"לקראת\": lakrt,\n",
        "}\n",
        "pepositions_lst = [item for sublist in list(pepositions.values()) for item in sublist]\n",
        "\n",
        "stopwords_extend = stopwords_extend | set(pepositions_lst)\n",
        "print('Long list:')\n",
        "print(\n",
        "    \", \".join(\n",
        "        [\n",
        "            word if index % 15 != 0 else \"\\n,\" + word\n",
        "            for index, word in enumerate(stopwords_extend)\n",
        "        ]\n",
        "    )\n",
        ")"
      ]
    },
    {
      "cell_type": "code",
      "source": [
        "# short stop words list. Intersection UD and 1000 most freq words\n",
        "\n",
        "wiki_top_1000 = wiki_freq.head(1000)['word'].to_list()\n",
        "stopwords_short = stopwords_base.intersection(set(wiki_top_1000))\n",
        "stopwords_short_minus = {''}\n",
        "stopwords_short = stopwords_short - stopwords_short_minus\n",
        "print('Short list:')\n",
        "print(\n",
        "    \", \".join(\n",
        "        [\n",
        "            word if index % 15 != 0 else \"\\n,\" + word\n",
        "            for index, word in enumerate(stopwords_short)\n",
        "        ]\n",
        "    )\n",
        ")"
      ],
      "metadata": {
        "colab": {
          "base_uri": "https://localhost:8080/"
        },
        "id": "i_OpU2tPielO",
        "outputId": "830bccb1-6b4c-4773-ac09-9795f656028d"
      },
      "execution_count": 9,
      "outputs": [
        {
          "output_type": "stream",
          "name": "stdout",
          "text": [
            "Short list:\n",
            "\n",
            ",כ, אלו, אצל, לאור, פחות, אחרי, באמצעות, מול, כדי, עת, החל, הן, רק, לו, מהם, \n",
            ",מן, אותה, לקראת, אשר, of, the, מעבר, כלומר, הרי, אי, שכן, זו, כלפי, בשל, על, \n",
            ",זהו, מצד, למשל, שאר, יחד, הם, כגון, תחת, עבור, כן, בתור, בפני, ללא, ככל, לשם, \n",
            ",ה, אל, לא, בעוד, לאחר, יש, מאשר, בגלל, רוב, כנגד, זה, במשך, מי, בין, אם, \n",
            ",מבין, גם, הוא, כי, פי, אחר, עצמה, ידי, בעקבות, דרך, לפי, סביב, אולם, עוד, בתוך, \n",
            ",הרבה, זאת, ב, נגד, מתחת, משום, קודם, למרות, מתוך, עצמו, בקרב, מאחר, במקום, כיוון, עם, \n",
            ",לבין, מרבית, אלא, מאז, מדי, עבר, את, עד, או, מאת, מעל, מפני, האם, כלל, לידי, \n",
            ",אותו, כאשר, The, לצד, מכיוון, אף, לגבי, מנת, כמו, אני, אותם, בה, יותר, של, אך, \n",
            ",ו, נכון, קרוב, לאורך, אלה, היא, כך, כל, הללו, לפני, אבל, א, מספר, מטעם, מ, \n",
            ",בזכות, למען, עקב, לעומת, בניגוד, ל, מעט, מה, לה, תוך, כפי, עצמם, ליד, כמה, בידי\n"
          ]
        }
      ]
    },
    {
      "cell_type": "code",
      "source": [
        "# Download the list\n",
        "from google.colab import files\n",
        "\n",
        "pd.DataFrame({\"stopswords\": list(stopwords_extend)}).to_csv(\n",
        "    \"stopswords_list_extend.txt\", index=False, sep=\"\\t\"\n",
        ")\n",
        "\n",
        "pd.DataFrame({\"stopswords\": list(stopwords_short)}).to_csv(\n",
        "    \"stopswords_list_short.txt\", index=False, sep=\"\\t\"\n",
        ")\n",
        "\n",
        "files.download(\"stopswords_list_extend.txt\")\n",
        "files.download(\"stopswords_list_short.txt\")"
      ],
      "metadata": {
        "id": "_cPrv7YVx-qp",
        "colab": {
          "base_uri": "https://localhost:8080/",
          "height": 17
        },
        "outputId": "b5fd0189-6a0b-4e6d-b907-e97aa262e78b"
      },
      "execution_count": 10,
      "outputs": [
        {
          "output_type": "display_data",
          "data": {
            "text/plain": [
              "<IPython.core.display.Javascript object>"
            ],
            "application/javascript": [
              "\n",
              "    async function download(id, filename, size) {\n",
              "      if (!google.colab.kernel.accessAllowed) {\n",
              "        return;\n",
              "      }\n",
              "      const div = document.createElement('div');\n",
              "      const label = document.createElement('label');\n",
              "      label.textContent = `Downloading \"${filename}\": `;\n",
              "      div.appendChild(label);\n",
              "      const progress = document.createElement('progress');\n",
              "      progress.max = size;\n",
              "      div.appendChild(progress);\n",
              "      document.body.appendChild(div);\n",
              "\n",
              "      const buffers = [];\n",
              "      let downloaded = 0;\n",
              "\n",
              "      const channel = await google.colab.kernel.comms.open(id);\n",
              "      // Send a message to notify the kernel that we're ready.\n",
              "      channel.send({})\n",
              "\n",
              "      for await (const message of channel.messages) {\n",
              "        // Send a message to notify the kernel that we're ready.\n",
              "        channel.send({})\n",
              "        if (message.buffers) {\n",
              "          for (const buffer of message.buffers) {\n",
              "            buffers.push(buffer);\n",
              "            downloaded += buffer.byteLength;\n",
              "            progress.value = downloaded;\n",
              "          }\n",
              "        }\n",
              "      }\n",
              "      const blob = new Blob(buffers, {type: 'application/binary'});\n",
              "      const a = document.createElement('a');\n",
              "      a.href = window.URL.createObjectURL(blob);\n",
              "      a.download = filename;\n",
              "      div.appendChild(a);\n",
              "      a.click();\n",
              "      div.remove();\n",
              "    }\n",
              "  "
            ]
          },
          "metadata": {}
        },
        {
          "output_type": "display_data",
          "data": {
            "text/plain": [
              "<IPython.core.display.Javascript object>"
            ],
            "application/javascript": [
              "download(\"download_c9060ff3-5acf-4e3d-b602-c9502e98d841\", \"stopswords_list_extend.txt\", 3690)"
            ]
          },
          "metadata": {}
        },
        {
          "output_type": "display_data",
          "data": {
            "text/plain": [
              "<IPython.core.display.Javascript object>"
            ],
            "application/javascript": [
              "\n",
              "    async function download(id, filename, size) {\n",
              "      if (!google.colab.kernel.accessAllowed) {\n",
              "        return;\n",
              "      }\n",
              "      const div = document.createElement('div');\n",
              "      const label = document.createElement('label');\n",
              "      label.textContent = `Downloading \"${filename}\": `;\n",
              "      div.appendChild(label);\n",
              "      const progress = document.createElement('progress');\n",
              "      progress.max = size;\n",
              "      div.appendChild(progress);\n",
              "      document.body.appendChild(div);\n",
              "\n",
              "      const buffers = [];\n",
              "      let downloaded = 0;\n",
              "\n",
              "      const channel = await google.colab.kernel.comms.open(id);\n",
              "      // Send a message to notify the kernel that we're ready.\n",
              "      channel.send({})\n",
              "\n",
              "      for await (const message of channel.messages) {\n",
              "        // Send a message to notify the kernel that we're ready.\n",
              "        channel.send({})\n",
              "        if (message.buffers) {\n",
              "          for (const buffer of message.buffers) {\n",
              "            buffers.push(buffer);\n",
              "            downloaded += buffer.byteLength;\n",
              "            progress.value = downloaded;\n",
              "          }\n",
              "        }\n",
              "      }\n",
              "      const blob = new Blob(buffers, {type: 'application/binary'});\n",
              "      const a = document.createElement('a');\n",
              "      a.href = window.URL.createObjectURL(blob);\n",
              "      a.download = filename;\n",
              "      div.appendChild(a);\n",
              "      a.click();\n",
              "      div.remove();\n",
              "    }\n",
              "  "
            ]
          },
          "metadata": {}
        },
        {
          "output_type": "display_data",
          "data": {
            "text/plain": [
              "<IPython.core.display.Javascript object>"
            ],
            "application/javascript": [
              "download(\"download_78f88041-df6d-48c3-830a-58dd8d6a770f\", \"stopswords_list_short.txt\", 1117)"
            ]
          },
          "metadata": {}
        }
      ]
    }
  ],
  "metadata": {
    "colab": {
      "collapsed_sections": [],
      "name": "prepare_stop_word.ipynb",
      "provenance": [],
      "include_colab_link": true
    },
    "kernelspec": {
      "display_name": "Python 3 (ipykernel)",
      "language": "python",
      "name": "python3"
    },
    "language_info": {
      "codemirror_mode": {
        "name": "ipython",
        "version": 3
      },
      "file_extension": ".py",
      "mimetype": "text/x-python",
      "name": "python",
      "nbconvert_exporter": "python",
      "pygments_lexer": "ipython3",
      "version": "3.9.7"
    }
  },
  "nbformat": 4,
  "nbformat_minor": 0
}