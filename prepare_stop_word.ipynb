{
  "cells": [
    {
      "cell_type": "markdown",
      "metadata": {
        "id": "view-in-github",
        "colab_type": "text"
      },
      "source": [
        "<a href=\"https://colab.research.google.com/github/WebiksInc/Stop-Words-Hebrew/blob/main/prepare_stop_word.ipynb\" target=\"_parent\"><img src=\"https://colab.research.google.com/assets/colab-badge.svg\" alt=\"Open In Colab\"/></a>"
      ]
    },
    {
      "cell_type": "markdown",
      "source": [
        "# List Stop Words in Hebrew"
      ],
      "metadata": {
        "id": "6a7bimjCIfRv"
      }
    },
    {
      "cell_type": "code",
      "source": [
        "# Install pyconll to handle UD\n",
        "try:\n",
        "    import pyconll\n",
        "except ImportError as e:\n",
        "    !pip install pyconll"
      ],
      "metadata": {
        "colab": {
          "base_uri": "https://localhost:8080/"
        },
        "id": "eaWP8QkbwT2V",
        "outputId": "1267a537-423f-48a6-f8e7-aa43d5a2211c"
      },
      "execution_count": 1,
      "outputs": [
        {
          "output_type": "stream",
          "name": "stdout",
          "text": [
            "Looking in indexes: https://pypi.org/simple, https://us-python.pkg.dev/colab-wheels/public/simple/\n",
            "Collecting pyconll\n",
            "  Downloading pyconll-3.1.0-py3-none-any.whl (26 kB)\n",
            "Installing collected packages: pyconll\n",
            "Successfully installed pyconll-3.1.0\n"
          ]
        }
      ]
    },
    {
      "cell_type": "code",
      "execution_count": 2,
      "metadata": {
        "id": "jiglBSmwEGHc"
      },
      "outputs": [],
      "source": [
        "# Import package\n",
        "import numpy as np\n",
        "import pandas as pd\n",
        "import requests as req\n",
        "import pyconll"
      ]
    },
    {
      "cell_type": "code",
      "source": [
        "# URL data train/test/dev\n",
        "ud_dev = \"https://raw.githubusercontent.com/UniversalDependencies/UD_Hebrew-IAHLTwiki/master/he_iahltwiki-ud-dev.conllu\"\n",
        "ud_test = \"https://github.com/UniversalDependencies/UD_Hebrew-IAHLTwiki/raw/master/he_iahltwiki-ud-test.conllu\"\n",
        "ud_train = \"https://github.com/UniversalDependencies/UD_Hebrew-IAHLTwiki/blob/master/he_iahltwiki-ud-train.conllu?raw=true\""
      ],
      "metadata": {
        "id": "B7_EGFbjw73Q"
      },
      "execution_count": 3,
      "outputs": []
    },
    {
      "cell_type": "code",
      "execution_count": 4,
      "metadata": {
        "id": "67BC6mwMOHQP"
      },
      "outputs": [],
      "source": [
        "# download data\n",
        "def get_data(url: str, name: str):\n",
        "    res = req.get(url)\n",
        "    file = open(name + \".txt\", \"w\")\n",
        "    file.write(res.text)\n",
        "    file.close()\n",
        "\n",
        "\n",
        "get_data(ud_dev, \"ud_dev\")\n",
        "get_data(ud_test, \"ud_test\")\n",
        "get_data(ud_train, \"ud_train\")"
      ]
    },
    {
      "cell_type": "code",
      "execution_count": 5,
      "metadata": {
        "id": "d4agOw8EImx8"
      },
      "outputs": [],
      "source": [
        "# load the UD data\n",
        "dev = pyconll.load_from_file(\"/content/ud_dev.txt\")\n",
        "train = pyconll.load_from_file(\"/content/ud_test.txt\")\n",
        "test = pyconll.load_from_file(\"/content/ud_train.txt\")"
      ]
    },
    {
      "cell_type": "code",
      "execution_count": 6,
      "metadata": {
        "id": "SzX4GxiVQaOt"
      },
      "outputs": [],
      "source": [
        "# Word extraction from the UD. Cleaning and adding words\n",
        "def remove_niqqud_from_string(my_string):\n",
        "    return \"\".join([\"\" if 1456 <= ord(c) <= 1479 else c for c in my_string])\n",
        "\n",
        "\n",
        "def Extracts_stopwords(dat: pyconll):\n",
        "    # Extracts the stopwords form the UD Schema\n",
        "    POS_tag = [\"DET\", \"ADP\", \"PRON\", \"CCONJ\", \"SCONJ\", \"SYM\"]\n",
        "    lst_words = [\n",
        "        token.form for sentence in dat for token in sentence if token.upos in POS_tag\n",
        "    ]\n",
        "    return lst_words\n",
        "\n",
        "\n",
        "words_plus = {\n",
        "    \"אגב\",\n",
        "    \"הואיל\",\n",
        "    \"הלא\",\n",
        "    \"הרי\",\n",
        "    \"כיאלו\",\n",
        "    \"כיון\",\n",
        "    \"יען\",\n",
        "    \"על\" \"מנת\",\n",
        "    \"ודאי\",\n",
        "    \"גם\",\n",
        "    \"אפילו\",\n",
        "    \"יש\",\n",
        "    \"רק\",\n",
        "}\n",
        "words_minus = {\n",
        "    \"%\",\n",
        "    \"&\",\n",
        "    \"(\",\n",
        "    \"+\",\n",
        "    \"-\",\n",
        "    \"/\",\n",
        "    \":\",\n",
        "    \"=\",\n",
        "    \"–\",\n",
        "    \"°\",\n",
        "    \"בינ\",\n",
        "    \"שורת\",\n",
        "    \"אודות\",\n",
        "    \"לאזור\",\n",
        "    \"במקביל\",\n",
        "    \"כשב-1948\",\n",
        "    \"ד\",\n",
        "    \"בתוכ\",\n",
        "    \"הו\",\n",
        "    \"י\",\n",
        "    \"ך\",\n",
        "    \"ם\",\n",
        "    \"ן\",\n",
        "    \"נ'\",\n",
        "    \"נאומ\",\n",
        "}\n",
        "\n",
        "# Extracts the stopwords form the UD Schema\n",
        "stopwords_raw = set(\n",
        "    Extracts_stopwords(dev) + Extracts_stopwords(train) + Extracts_stopwords(test)\n",
        ")\n",
        "# Optionally, delete the words with the niqqud\n",
        "# stopwords_raw = set(map(remove_niqqud_from_string,stopwords_raw))\n",
        "# Delete incorrect words\n",
        "stopwords = stopwords_raw - words_minus\n",
        "# Add missing words that we identified . Note that there is another addition of words below\n",
        "stopwords = stopwords | words_plus\n",
        "\n",
        "# Note: The list includes English words that happened to be in the database. For a complete list in English we recommend nltk package."
      ]
    },
    {
      "cell_type": "code",
      "execution_count": 7,
      "metadata": {
        "id": "S4bfUEHxsUDu",
        "colab": {
          "base_uri": "https://localhost:8080/"
        },
        "outputId": "4bad2f7a-4bda-46b1-e6cb-ef768b7b8c44"
      },
      "outputs": [
        {
          "output_type": "stream",
          "name": "stdout",
          "text": [
            "\n",
            ",מתוכן, טרם, עלינו, עליכם, עלמנת, כיוון, עמ, בעבור, מחצית, ערכ, אצלנו, רוב, ודאי, הָ, מי, \n",
            ",מ, ביניהם, of, אצל, אצלי, ב, ני, יו, בינם, the, לפניהם, אותם, משל, You, לפיו, \n",
            ",ממנו, מרבית, אצלם, אליכם, בתור, לפינו, לציד, בינו, לגבי, כלשהם, אל, עצמה, עמה, לא, ממני, \n",
            ",אלמלא, במקומ, מטעם, עובר, בהתחשב, מעין, כעבור, היא, בין, אותי, בעקבות, מלבד, שלכן, למן, כמוה, \n",
            ",היות, בפני, ל, זה, כמוך, תוך, הלא, זהו, עצמך, עליה, הודות, כ, עליהם, בטרם, מציד, \n",
            ",ביני, אלינו, אֶל, בזכות, לפיהם, לבין, לכבוד, כמונו, כאשר, to, אצלו, עבר, כמות, וַ, החל, \n",
            ",לאורך, הּ, מאז, כלשהו, רק, עמו, ְהַ, ספר, מה, בהתבסס, עד, שכן, אליך, איזה, לפיכם, \n",
            ",אותך, בשבילך, בעוד, כולו, מבחינת, את, ע\"פ, לידי, מעט, לפנות, עמן, a, מאשר, מפני, Your, \n",
            ",לפניכן, מול, לתוך, לפיכן, כמוהו, שמא, בינך, לולא, כלומר, מפאת, אם, כִּי, זאת, הַ, אותה, \n",
            ",ככל, לאחרי, אף, לקראתו, ה, עמכם, אבל, אצלך, לקראתי, בתוך, בשבילה, לקראתך, הללו, פי, לפיך, \n",
            ",לעבר, אוּלָם, מהן, מחמת, חרף, דרך, זו, אנו, לפני, אליו, בגדר, לקראתכם, דוגמת, אי, כיאלו, \n",
            ",כנגד, אית, שלה, אולם, יען, בשביל, אצלן, ביניכם, סביב, נגד, לרגל, בלא, לאחר, מביני, ביניהן, \n",
            ",כמוכן, מתוך, יחד, טרום, מכיוון, שלהם, שלהן, לו, לעומת, שלו, נו, כַּאֲשֶר, עצמי, מבלי, מן, \n",
            ",תחת, בלי, דנן, כול, נוכח, שלי, עמנו, עצמן, מירב, במקום, בלעדי, כמה, כי, רובן, אליבא, \n",
            ",לרבות, מאחורי, ללא, לפיה, לכדי, כולן, בשבילן, אותנו, למשל, ברם, אלו, מעלי, אִם, מישהו, אלה, \n",
            ",אצלה, לשם, כפי, דם, תחתי, מתחילת, לקראתן, במשך, באמצעות, שאר, כלפי, בידי, קרי, מסביב, א, \n",
            ",כם, ביד, נכון, אך, בקרבת, כלשהן, ביניכן, ממך, פרט, בשבילנו, עלי, אליכן, הגם, שלכם, עמכן, \n",
            ",לפניו, עצמם, מהם, גם, מאת, שום, אנחנו, ו, עבור, מספר, מבין, כמוני, בשבילי, מהו, כן, \n",
            ",עצמנו, אחרי, אליה, באם, כלשהי, לנוכח, בשבילכן, זוהי, לפי, לעניין, כאילו, מצד, אֶת, מיטב, אות, \n",
            ",בגלל, אני, ידי, כולה, מספיק, הם, מתוכ, גבי, בנוגע, ערב, אחר, לבל, וְ, מכם, עימ, \n",
            ",פחות, לאור, הרבה, The, ש, משום, לפיהן, כך, מידי, מכן, אפילו, עמהם, לצד, הואיל, עליו, \n",
            ",עמהן, בשל, בניגוד, וֹ, בִ, עליהן, משהו, לקראתם, אילו, and, ַזֶּה, מתחתי, כש, עצמו, של, \n",
            ",ליד, אשר, ממנ, האם, לפנינו, לקראת, לפניכם, עמם, במו, למעט, כגון, אתה, אצלכן, אותו, דרכ, \n",
            ",בשבילו, למען, בשבילם, כיון, ע\"ש, אֹת, אלא, או, בעד, בינינו, לפניך, מעל, ךָ, לה, לפניהן, \n",
            ",לקראתה, עקב, זולת, בקרב, עַד, בינה, הרי, בינן, באשר, אליהן, יותר, כמוכם, למחרת, כלל, עת, \n",
            ",עליכן, שלך, אותן, כדי, הן, מש, בה, תמורת, אתכם, מנת, מקרב, יתר, מאחר, לפניה, הוא, \n",
            ",כמו, קודם, אליהם, עוד, כמוהם, מתחת, יש, אצלכם, למרות, כולם, הלה, אנוכי, בשבילכם, לקראתנו, לקראתכן, \n",
            ",עמי, אודותי, בגין, עליך, עמך, על, לבד, כמוהן, אתכן, אגב, שלנו, מדי, אלי, בעקבותי, עם, \n",
            ",על-פי, כל, פר, ממנה, מעבר, קרוב\n"
          ]
        }
      ],
      "source": [
        "# Add prepositions. A detailed explanation of the need appears in README\n",
        "\n",
        "al = [\n",
        "    \"אלי\",\n",
        "    \"אליך\",\n",
        "    \"אליך\",\n",
        "    \"אליו\",\n",
        "    \"אליה\",\n",
        "    \"אלינו\",\n",
        "    \"אליכם\",\n",
        "    \"אליכן\",\n",
        "    \"אליהם\",\n",
        "    \"אליהן\",\n",
        "]\n",
        "hal = [\n",
        "    \"עלי\",\n",
        "    \"עליך\",\n",
        "    \"עליך\",\n",
        "    \"עליו\",\n",
        "    \"עליה\",\n",
        "    \"עלינו\",\n",
        "    \"עליכם\",\n",
        "    \"עליכן\",\n",
        "    \"עליהם\",\n",
        "    \"עליהן\",\n",
        "]\n",
        "him = [\n",
        "    \"עמי\",\n",
        "    \"עמך\",\n",
        "    \"עמו\",\n",
        "    \"עמה\",\n",
        "    \"עמנו\",\n",
        "    \"עמכם\",\n",
        "    \"עמכן\",\n",
        "    \"עמם\",\n",
        "    \"עמן\",\n",
        "    \"עמהם\",\n",
        "    \"עמהן\"\n",
        "]\n",
        "ath_with = [\n",
        "    \"אתן\",\n",
        "    \"אתם\",\n",
        "    \"אתכן\",\n",
        "    \"אתכם\",\n",
        "    \"אתנו\",\n",
        "    \"אתה\",\n",
        "    \"אתו\",\n",
        "    \"אתך\",\n",
        "    \"אתי\"\n",
        "]\n",
        "ath = [\n",
        "    \"אותי\",\n",
        "    \"אותך\",\n",
        "    \"אותו\",\n",
        "    \"אותה\",\n",
        "    \"אותנו\",\n",
        "    \"אתכם\",\n",
        "    \"אתכן\",\n",
        "    \"אותם\",\n",
        "    \"אותן\"\n",
        "]\n",
        "shel = [\n",
        "    \"שלי\",\n",
        "    \"שלך\",\n",
        "    \"שלו\",\n",
        "    \"שלה\",\n",
        "    \"שלנו\",\n",
        "    \"שלכם\",\n",
        "    \"שלכן\",\n",
        "    \"שלהם\",\n",
        "    \"שלהן\",\n",
        "]\n",
        "men = [\n",
        "    \"ממני\",\n",
        "    \"ממך\",\n",
        "    \"ממנו\",\n",
        "    \"ממנה\",\n",
        "    \"מכם\",\n",
        "    \"מכן\",\n",
        "    \"מהם\",\n",
        "    \"מהן\"\n",
        "]\n",
        "azhel = [\n",
        "    \"אצלי\",\n",
        "    \"אצלך\",\n",
        "    \"אצלו\",\n",
        "    \"אצלה\",\n",
        "    \"אצלנו\",\n",
        "    \"אצלכם\",\n",
        "    \"אצלכן\",\n",
        "    \"אצלם\", \n",
        "    \"אצלן\"\n",
        "]\n",
        "bshvil = [\n",
        "    \"בשבילי\",\n",
        "    \"בשבילך\",\n",
        "    \"בשבילו\",\n",
        "    \"בשבילה\",\n",
        "    \"בשבילנו\",\n",
        "    \"בשבילכם\",\n",
        "    \"בשבילכן\",\n",
        "    \"בשבילם\",\n",
        "    \"בשבילן\",\n",
        "]\n",
        "bin = [\n",
        "    \"ביני\",\n",
        "    \"בינך\",\n",
        "    \"בינו\",\n",
        "    \"בינה\",\n",
        "    \"בינינו\",\n",
        "    \"ביניכם\",\n",
        "    \"ביניכן\",\n",
        "    \"ביניהם\",\n",
        "    \"ביניהן\",\n",
        "    \"בינם\",\n",
        "    \"בינן\",\n",
        "]\n",
        "lafi = [\n",
        "    \"לפי\",\n",
        "    \"לפיך\",\n",
        "    \"לפיו\",\n",
        "    \"לפיה\",\n",
        "    \"לפינו\",\n",
        "    \"לפיכם\",\n",
        "    \"לפיכן\",\n",
        "    \"לפיהם\",\n",
        "    \"לפיהן\"\n",
        "]\n",
        "lafni = [\n",
        "    \"לפני\",\n",
        "    \"לפניך\",\n",
        "    \"לפניו\",\n",
        "    \"לפניה\",\n",
        "    \"לפנינו\",\n",
        "    \"לפניכם\",\n",
        "    \"לפניכן\",\n",
        "    \"לפניהם\",\n",
        "    \"לפניהן\",\n",
        "]\n",
        "chmo = [\n",
        "    \"כמוני\",\n",
        "    \"כמוך\",\n",
        "    \"כמוהו\",\n",
        "    \"כמוה\",\n",
        "    \"כמונו\",\n",
        "    \"כמוכם\",\n",
        "    \"כמוכן\",\n",
        "    \"כמוהם\",\n",
        "    \"כמוהן\"\n",
        "]\n",
        "lakrt = [\n",
        "    \"לקראתי\",\n",
        "    \"לקראתך\",\n",
        "    \"לקראתו\",\n",
        "    \"לקראתה\",\n",
        "    \"לקראתנו\",\n",
        "    \"לקראתכם\",\n",
        "    \"לקראתכן\",\n",
        "    \"לקראתם\",\n",
        "    \"לקראתן\",\n",
        "]\n",
        "pepositions = {\n",
        "    \"אל\": al,\n",
        "    \"על\": hal,\n",
        "    \"עם\": him,\n",
        "    \"(=עם) את\": him,\n",
        "    \"את (תוויות מושא ישיר\": ath,\n",
        "    \"של\": shel,\n",
        "    \"מן\": men,\n",
        "    \"אצל\": azhel,\n",
        "    \"בשביל\": bshvil,\n",
        "    \"בין\": bin,\n",
        "    \"לפי\": lafi,\n",
        "    \"לפני\": lafni,\n",
        "    \"כמו\": chmo,\n",
        "    \"לקראת\": lakrt,\n",
        "}\n",
        "pepositions_lst = [item for sublist in list(pepositions.values()) for item in sublist]\n",
        "\n",
        "stopwords = stopwords | set(pepositions_lst)\n",
        "print(\n",
        "    \", \".join(\n",
        "        [\n",
        "            word if index % 15 != 0 else \"\\n,\" + word\n",
        "            for index, word in enumerate(stopwords)\n",
        "        ]\n",
        "    )\n",
        ")"
      ]
    },
    {
      "cell_type": "code",
      "source": [
        "# Download the list\n",
        "from google.colab import files\n",
        "\n",
        "pd.DataFrame({\"stopswords\": list(stopwords)}).to_csv(\n",
        "    \"stopswords_list.txt\", index=False, sep=\"\\t\"\n",
        ")\n",
        "files.download(\"stopswords_list.txt\")"
      ],
      "metadata": {
        "id": "_cPrv7YVx-qp",
        "outputId": "2db9378d-7db6-45dc-a289-4975250eb47a",
        "colab": {
          "base_uri": "https://localhost:8080/",
          "height": 17
        }
      },
      "execution_count": 8,
      "outputs": [
        {
          "output_type": "display_data",
          "data": {
            "text/plain": [
              "<IPython.core.display.Javascript object>"
            ],
            "application/javascript": [
              "\n",
              "    async function download(id, filename, size) {\n",
              "      if (!google.colab.kernel.accessAllowed) {\n",
              "        return;\n",
              "      }\n",
              "      const div = document.createElement('div');\n",
              "      const label = document.createElement('label');\n",
              "      label.textContent = `Downloading \"${filename}\": `;\n",
              "      div.appendChild(label);\n",
              "      const progress = document.createElement('progress');\n",
              "      progress.max = size;\n",
              "      div.appendChild(progress);\n",
              "      document.body.appendChild(div);\n",
              "\n",
              "      const buffers = [];\n",
              "      let downloaded = 0;\n",
              "\n",
              "      const channel = await google.colab.kernel.comms.open(id);\n",
              "      // Send a message to notify the kernel that we're ready.\n",
              "      channel.send({})\n",
              "\n",
              "      for await (const message of channel.messages) {\n",
              "        // Send a message to notify the kernel that we're ready.\n",
              "        channel.send({})\n",
              "        if (message.buffers) {\n",
              "          for (const buffer of message.buffers) {\n",
              "            buffers.push(buffer);\n",
              "            downloaded += buffer.byteLength;\n",
              "            progress.value = downloaded;\n",
              "          }\n",
              "        }\n",
              "      }\n",
              "      const blob = new Blob(buffers, {type: 'application/binary'});\n",
              "      const a = document.createElement('a');\n",
              "      a.href = window.URL.createObjectURL(blob);\n",
              "      a.download = filename;\n",
              "      div.appendChild(a);\n",
              "      a.click();\n",
              "      div.remove();\n",
              "    }\n",
              "  "
            ]
          },
          "metadata": {}
        },
        {
          "output_type": "display_data",
          "data": {
            "text/plain": [
              "<IPython.core.display.Javascript object>"
            ],
            "application/javascript": [
              "download(\"download_1d5d477b-4a66-40a7-bd59-5b7b73e1ceaa\", \"stopswords_list.txt\", 3687)"
            ]
          },
          "metadata": {}
        }
      ]
    }
  ],
  "metadata": {
    "colab": {
      "collapsed_sections": [],
      "name": "prepare_stop_word.ipynb",
      "provenance": [],
      "include_colab_link": true
    },
    "kernelspec": {
      "display_name": "Python 3 (ipykernel)",
      "language": "python",
      "name": "python3"
    },
    "language_info": {
      "codemirror_mode": {
        "name": "ipython",
        "version": 3
      },
      "file_extension": ".py",
      "mimetype": "text/x-python",
      "name": "python",
      "nbconvert_exporter": "python",
      "pygments_lexer": "ipython3",
      "version": "3.9.7"
    }
  },
  "nbformat": 4,
  "nbformat_minor": 0
}