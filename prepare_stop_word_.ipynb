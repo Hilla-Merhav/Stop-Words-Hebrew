{
  "cells": [
    {
      "cell_type": "markdown",
      "metadata": {
        "id": "view-in-github",
        "colab_type": "text"
      },
      "source": [
        "<a href=\"https://colab.research.google.com/github/WebiksInc/Stop-Words-Hebrew/blob/main/prepare_stop_word_.ipynb\" target=\"_parent\"><img src=\"https://colab.research.google.com/assets/colab-badge.svg\" alt=\"Open In Colab\"/></a>"
      ]
    },
    {
      "cell_type": "markdown",
      "source": [
        "# Stop words in Hebrew"
      ],
      "metadata": {
        "id": "6a7bimjCIfRv"
      }
    },
    {
      "cell_type": "code",
      "execution_count": 13,
      "metadata": {
        "colab": {
          "base_uri": "https://localhost:8080/"
        },
        "id": "jiglBSmwEGHc",
        "outputId": "3649d2ae-b296-43ae-cc84-ea1e3813febc"
      },
      "outputs": [
        {
          "output_type": "stream",
          "name": "stdout",
          "text": [
            "Looking in indexes: https://pypi.org/simple, https://us-python.pkg.dev/colab-wheels/public/simple/\n",
            "Requirement already satisfied: pyconll in /usr/local/lib/python3.7/dist-packages (3.1.0)\n"
          ]
        }
      ],
      "source": [
        "\"\"\"\n",
        "List of stop words in Hebrew produced by Universal Dependencies  of the The Israeli Association of Human Language Technologies (IAHLT)\n",
        "\"\"\"\n",
        "\n",
        "import numpy as np\n",
        "import pandas as pd\n",
        "import requests as req\n",
        "!pip install pyconll\n",
        "import pyconll\n",
        "# data ud train/test/dev\n",
        "ud_dev = 'https://raw.githubusercontent.com/UniversalDependencies/UD_Hebrew-IAHLTwiki/master/he_iahltwiki-ud-dev.conllu'\n",
        "ud_test = 'https://github.com/UniversalDependencies/UD_Hebrew-IAHLTwiki/raw/master/he_iahltwiki-ud-test.conllu'\n",
        "ud_train = 'https://github.com/UniversalDependencies/UD_Hebrew-IAHLTwiki/blob/master/he_iahltwiki-ud-train.conllu?raw=true'"
      ]
    },
    {
      "cell_type": "code",
      "execution_count": 14,
      "metadata": {
        "id": "67BC6mwMOHQP"
      },
      "outputs": [],
      "source": [
        "#download data\n",
        "def get_data(url:str,name:str):\n",
        "  res = req.get(url)\n",
        "  file = open(name + '.txt', 'w')\n",
        "  file.write(res.text)\n",
        "  file.close()\n",
        "get_data(ud_dev,'ud_dev')\n",
        "get_data(ud_test,'ud_test')\n",
        "get_data(ud_train,'ud_train')"
      ]
    },
    {
      "cell_type": "code",
      "execution_count": 15,
      "metadata": {
        "id": "d4agOw8EImx8"
      },
      "outputs": [],
      "source": [
        "#load the UD data\n",
        "dev = pyconll.load_from_file('/content/ud_dev.txt')\n",
        "train = pyconll.load_from_file('/content/ud_test.txt')\n",
        "test = pyconll.load_from_file('/content/ud_train.txt')"
      ]
    },
    {
      "cell_type": "code",
      "execution_count": 16,
      "metadata": {
        "id": "SzX4GxiVQaOt"
      },
      "outputs": [],
      "source": [
        "def remove_niqqud_from_string(my_string):\n",
        "    return ''.join(['' if  1456 <= ord(c) <= 1479 else c for c in my_string])\n",
        "\n",
        "def Extracts_stopwords(dat:pyconll):\n",
        "  \"\"\"\n",
        "  Extracts the stopwords form the UD Schema\n",
        "  \"\"\"\n",
        "  POS_tag  = ['DET','ADP','PRON','CCONJ','SCONJ','SYM']\n",
        "  lst_words = [token.form for sentence in dat for token in sentence if token.upos in POS_tag]\n",
        "  return lst_words \n",
        "\n",
        "words_plus = {'אגב', 'הואיל' , 'הלא', 'הרי', 'כיאלו', 'כיון','יען','על' 'מנת','ודאי','גם','אפילו','יש','רק'}\n",
        "words_minus = {'%','&','(','+','-','/',':','=','–','°','בינ','שורת','אודות','לאזור','במקביל','כשב-1948','ד','בתוכ','הו','י','ך','ם','ן',\"נ'\",'נאומ'}\n",
        "\n",
        "\n",
        "stopwords_raw = set(Extracts_stopwords(dev) + Extracts_stopwords(train) + Extracts_stopwords(test)) #Extracts the stopwords form the UD Schema\n",
        "# stopwords_raw = set(map(remove_niqqud_from_string,stopwords_raw)) # Optionally, delete the words with the niqqud\n",
        "stopwords = stopwords_raw - words_minus # Delete incorrect words\n",
        "stopwords = stopwords | words_plus #Add missing words that we identified . Note that there is another addition of words below\n",
        "\n",
        "#Note: The list includes English words that happened to be in the database. For a complete list in English we recommend nltk package."
      ]
    },
    {
      "cell_type": "code",
      "execution_count": 17,
      "metadata": {
        "id": "S4bfUEHxsUDu"
      },
      "outputs": [],
      "source": [
        "# Add prepositions. A detailed explanation of the need appears in README\n",
        "\n",
        "al = ['אלי', 'אליך', 'אליך', 'אליו', 'אליה', 'אלינו', 'אליכם','אליכן', 'אליהם','אליהן']\n",
        "hal = ['עלי','עליך','עליך','עליו','עליה','עלינו','עליכם','עליכן, עליהם','עליהן']\n",
        "him = ['עמי','עמך','עמו','עמה','עמנו','עמכם','עמכן','עמם','עמן','עמהם','עמהן']\n",
        "ath_with = ['אתן','אתם','אתכן','אתכם','אתנו','אתה','אתו','אתך','אתי']\n",
        "ath = ['אותי','אותך','אותו','אותה','אותנו','אתכם','אתכן','אותם','אותן']\n",
        "shel = ['שלי','שלך','שלו','שלה','שלנו','שלכם','שלכן','שלהם','שלהן',]\n",
        "men = ['ממני','ממך','ממנו','ממנה','מכם','מכן','מהם','מהן']\n",
        "azhel = ['אצלי','אצלך','אצלו','אצלה','אצלנו','אצלכם','אצלכן','אצלם','אצלן']\n",
        "bshvil = ['בשבילי','בשבילך','בשבילו','בשבילה','בשבילנו','בשבילכם','בשבילכן','בשבילם','בשבילן']\n",
        "bin = ['ביני','בינך','בינו','בינה','בינינו','ביניכם','ביניכן','ביניהם','ביניהן','בינם','בינן']\n",
        "lafi = ['לפי','לפיך','לפיו','לפיה','לפינו','לפיכם','לפיכן','לפיהם','לפיהן']\n",
        "lafni = ['לפני','לפניך','לפניו','לפניה','לפנינו','לפניכם','לפניכן','לפניהם','לפניהן']\n",
        "chmo = ['כמוני','כמוך','כמוהו','כמוה','כמונו','כמוכם','כמוכן','כמוהם','כמוהן']\n",
        "lakrt = ['לקראתי','לקראתך','לקראתו','לקראתה','לקראתנו','לקראתכם','לקראתכן','לקראתם','לקראתן']\n",
        "pepositions = {'אל':al,\n",
        "               'על':hal,\n",
        "               'עם':him,\n",
        "               '(=עם) את':him,\n",
        "               'את (תוויות מושא ישיר':ath,\n",
        "               'של' : shel,\n",
        "               'מן' : men,\n",
        "               'אצל' : azhel,\n",
        "               'בשביל' : bshvil,\n",
        "               'בין' : bin,\n",
        "               'לפי' : lafi,\n",
        "               'לפני' : lafni,\n",
        "               'כמו' : chmo,\n",
        "               'לקראת' : lakrt\n",
        "               }\n",
        "pepositions_lst = [item for sublist in list(pepositions.values()) for item in sublist]"
      ]
    },
    {
      "cell_type": "code",
      "execution_count": 18,
      "metadata": {
        "colab": {
          "base_uri": "https://localhost:8080/"
        },
        "id": "P3l9GQT7HJFf",
        "outputId": "b6d07f73-d5ad-4bd1-dc6f-8ff4edeb25c9"
      },
      "outputs": [
        {
          "output_type": "stream",
          "name": "stdout",
          "text": [
            "\n",
            ",שכן, לפיך, בגלל, עקב, נכון, אותן, עצמן, תחתי, מרבית, תוך, מכם, מסביב, לתוך, מכיוון, כלפי, \n",
            ",כלומר, לקראתכם, למן, שלהן, שלה, איזה, כמוכן, אותי, עצמה, מול, עובר, כש, וְ, You, מלבד, \n",
            ",הרי, עמן, אנו, The, ְהַ, בינך, עמכם, הגם, פי, כפי, מצד, כמוהם, יותר, בִ, אצלנו, \n",
            ",כולו, עד, מש, ביניהם, בשבילו, קרוב, משום, מישהו, עמכן, לכבוד, לבל, לגבי, מהן, של, לא, \n",
            ",אנחנו, אשר, אחרי, ללא, למעט, כן, מעט, אותה, כולם, הואיל, אותך, שלו, לפניהן, זאת, כך, \n",
            ",פחות, עת, עמם, לפני, כגון, מקרב, ה, שלנו, את, שום, על-פי, לשם, בשבילנו, בשבילכן, אלי, \n",
            ",ביני, אחר, לקראתנו, לפיכם, תחת, חרף, כי, בהתבסס, לנוכח, לקראתה, עמה, הלא, גבי, מדי, וַ, \n",
            ",אִם, אליכן, עלינו, לציד, במקומ, עצמם, עלמנת, מספר, שלכם, מספיק, a, עמי, למען, אליבא, כולה, \n",
            ",כדי, בשבילך, אל, הן, אם, יחד, דרכ, שמא, לרגל, מעין, בניגוד, נגד, בנוגע, to, לפינו, \n",
            ",למחרת, לקראת, אות, עצמו, זה, ערב, לפנינו, אליכם, לידי, עַד, הּ, לצד, פר, אלמלא, בינינו, \n",
            ",לאורך, מאז, מעלי, יש, באם, כם, לבד, מעל, טרום, ערכ, עליו, אצלי, זו, האם, the, \n",
            ",בידי, מציד, יען, אותנו, כנגד, מתחתי, סביב, על, בשבילם, היא, החל, אית, בקרבת, פרט, בשביל, \n",
            ",הלה, הַ, ספר, קודם, מבין, בינם, כמוהן, ע\"ש, עצמי, אֶל, כעבור, לפיהם, בינה, תמורת, עמ, \n",
            ",לפיה, עליך, כול, אצלה, מאחר, אצל, משל, הם, אותו, Your, במו, עמו, עוד, שלי, מתוכ, \n",
            ",לרבות, and, ככל, בין, ךָ, בשבילכם, עליכם, דרך, מביני, אלינו, זולת, אותם, לפיהן, אולם, כאילו, \n",
            ",ליד, לפיו, לבין, לקראתי, הללו, זהו, מה, מכן, מחצית, מאשר, ני, עצמנו, רוב, לקראתם, אנוכי, \n",
            ",יו, וֹ, אי, שלהם, רובן, כולן, כמו, כמות, אצלכן, מתחת, ו, מפאת, לפנות, מ, במשך, \n",
            ",מהם, עמך, of, לקראתכן, ידי, בינו, כמוה, נוכח, לפניכם, בזכות, בקרב, מתחילת, אני, כיוון, עמנו, \n",
            ",ש, ביניהן, לפי, ע\"פ, עמהם, מעבר, מבלי, מן, לה, ברם, במקום, לפניך, ממני, לקראתן, בתוך, \n",
            ",רק, לפניכן, לפניהם, קרי, למשל, מיטב, ביניכם, שאר, בעד, שלכן, כמוהו, ממנ, אליו, בעקבות, עמהן, \n",
            ",גם, אצלכם, עבר, לקראתך, בה, ב, בלי, אליהם, מי, בעבור, למרות, מהו, כל, בשבילי, ביד, \n",
            ",ממנה, בעוד, לעומת, אצלו, אֶת, מתוך, בשבילן, א, כלשהי, מתוכן, ביניכן, הרבה, או, טרם, כאשר, \n",
            ",כמוני, הָ, כלל, אך, אתה, עלי, לפיכן, לולא, עליהן, מחמת, ל, כַּאֲשֶר, לקראתו, עצמך, אגב, \n",
            ",עימ, בינן, לו, אליה, כמה, הוא, לאחר, הודות, כמוך, עבור, בלא, לאור, בטרם, כלשהן, אתכם, \n",
            ",כלשהם, אלא, לאחרי, באשר, בהתחשב, אלו, בפני, מירב, בגדר, כמונו, זוהי, מטעם, מאחורי, דם, היות, \n",
            ",ודאי, כיון, לפניו, אליך, כִּי, אודותי, מידי, לכדי, לעניין, ַזֶּה, דנן, בשל, עליה, ממנו, אפילו, \n",
            ",כיאלו, יתר, כמוכם, עליכן, עליהם, אלה, מבחינת, אוּלָם, דוגמת, מפני, כלשהו, אצלך, אתכן, אֹת, אצלן, ממך, \n",
            ",מאת, אליהן, אצלם, אף, נו, לעבר, משהו, בגין, כ, אבל, בתור, בלעדי, עם, אילו, לפניה, \n",
            ",באמצעות, שלך, בשבילה, מנת, בעקבותי\n"
          ]
        }
      ],
      "source": [
        "stopwords = stopwords | set(pepositions_lst)\n",
        "pd.DataFrame({'stopswords' : list(stopwords)}).to_csv('/content/drive/My Drive/Colab Notebooks/stopswords_list.csv',index = False)\n",
        "print(', '.join([word if index%15 != 0 else '\\n,' + word for index,word in  enumerate(stopwords)] ))"
      ]
    }
  ],
  "metadata": {
    "colab": {
      "collapsed_sections": [],
      "name": "prepare stop word .ipynb",
      "provenance": [],
      "mount_file_id": "1E4ZFe5Ycux94sfBFb84ndKnxIeV_88tB",
      "authorship_tag": "ABX9TyNYJ1cK9X34Mj6U4rQTsFOM",
      "include_colab_link": true
    },
    "kernelspec": {
      "display_name": "Python 3 (ipykernel)",
      "language": "python",
      "name": "python3"
    },
    "language_info": {
      "codemirror_mode": {
        "name": "ipython",
        "version": 3
      },
      "file_extension": ".py",
      "mimetype": "text/x-python",
      "name": "python",
      "nbconvert_exporter": "python",
      "pygments_lexer": "ipython3",
      "version": "3.9.7"
    }
  },
  "nbformat": 4,
  "nbformat_minor": 0
}